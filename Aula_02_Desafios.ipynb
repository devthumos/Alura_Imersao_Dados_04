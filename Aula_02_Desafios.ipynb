{
  "nbformat": 4,
  "nbformat_minor": 0,
  "metadata": {
    "colab": {
      "provenance": [],
      "collapsed_sections": [
        "Zd29EezCfQPf",
        "PNvBOes-rVrA",
        "8_mMxnyurftb"
      ],
      "authorship_tag": "ABX9TyMTStxDs/2tV1lBb5eYDA9e",
      "include_colab_link": true
    },
    "kernelspec": {
      "name": "python3",
      "display_name": "Python 3"
    },
    "language_info": {
      "name": "python"
    }
  },
  "cells": [
    {
      "cell_type": "markdown",
      "metadata": {
        "id": "view-in-github",
        "colab_type": "text"
      },
      "source": [
        "<a href=\"https://colab.research.google.com/github/devthumos/Alura_Imersao_Dados_04/blob/main/Aula_02_Desafios.ipynb\" target=\"_parent\"><img src=\"https://colab.research.google.com/assets/colab-badge.svg\" alt=\"Open In Colab\"/></a>"
      ]
    },
    {
      "cell_type": "markdown",
      "source": [
        "# Imersão de Dados 04 - Aula 02\n",
        "\n",
        "<h2><i>Tratamento de dados e primeiros gráficos</i></h2>\n",
        "\n",
        "<hr>\n",
        "<hr>"
      ],
      "metadata": {
        "id": "LAOtS7KwR3gJ"
      }
    },
    {
      "cell_type": "markdown",
      "source": [
        "# Desafios Aula 02\n",
        "\n",
        "- Criar uma escala de valores em milhões\n",
        "- Deixar o gráfico do histograma de valores legível (alterar labels, cores, título, escala)\n",
        "- Preço do metro quadrado por bairro e plotar em um gráfico ideal [Esse aki tem que estudar o groupby]\n",
        "- Explorar as bibliotecas de visualizações e colocar as suas conclusões\n",
        "- Pesquisar uma visualização para analisar os quartis, mediana e outliers"
      ],
      "metadata": {
        "id": "2x8XyANm0fB4"
      }
    },
    {
      "cell_type": "markdown",
      "source": [
        "Célula necessária para execução dos desafios"
      ],
      "metadata": {
        "id": "nQ5bsjE2cFYE"
      }
    },
    {
      "cell_type": "code",
      "source": [
        "import seaborn as sns\n",
        "import matplotlib.pyplot as plt\n",
        "import matplotlib.ticker as tick\n",
        "import pandas as pd\n",
        "import numpy as np\n",
        "import random\n",
        "\n",
        "file_path = \"https://gist.githubusercontent.com/tgcsantos/3bdb29eba6ce391e90df2b72205ba891/raw/22fa920e80c9fa209a9fccc8b52d74cc95d1599b/dados_imoveis.csv\"\n",
        "dataset = pd.read_csv(file_path)\n",
        "\n",
        "dataset[[\"Moeda\", \"Valor_anuncio\", \"Tipo_anuncio\"]] = dataset[\"Valor\"].str.split(expand=True) ## Nesse caso é melhor colocar unique para aparecer os valores None\n",
        "\n",
        "dataset_vendas = dataset[dataset.Tipo_anuncio.isnull()]\n",
        "dataset_vendas.Valor_anuncio = dataset_vendas.Valor_anuncio.str.replace(\".\", \"\").astype(\"float\")\n",
        "\n",
        "dataset_vendas"
      ],
      "metadata": {
        "colab": {
          "base_uri": "https://localhost:8080/",
          "height": 589
        },
        "id": "W8r_OvWacIN1",
        "outputId": "ba15f341-08b2-4df5-f6c6-5f0a4623e417"
      },
      "execution_count": null,
      "outputs": [
        {
          "output_type": "stream",
          "name": "stderr",
          "text": [
            "/usr/local/lib/python3.7/dist-packages/ipykernel_launcher.py:14: FutureWarning: The default value of regex will change from True to False in a future version. In addition, single character regular expressions will *not* be treated as literal strings when regex=True.\n",
            "  \n",
            "/usr/local/lib/python3.7/dist-packages/pandas/core/generic.py:5516: SettingWithCopyWarning: \n",
            "A value is trying to be set on a copy of a slice from a DataFrame.\n",
            "Try using .loc[row_indexer,col_indexer] = value instead\n",
            "\n",
            "See the caveats in the documentation: https://pandas.pydata.org/pandas-docs/stable/user_guide/indexing.html#returning-a-view-versus-a-copy\n",
            "  self[name] = value\n"
          ]
        },
        {
          "output_type": "execute_result",
          "data": {
            "text/plain": [
              "                                  Rua              Bairro     Cidade  \\\n",
              "0               Avenida Itacira, 255    Planalto Paulista  São Paulo   \n",
              "1      Rua Aurelia Perez Alvarez, 42   Jardim dos Estados  São Paulo   \n",
              "2                     Rua Alba Valdez     Jardim Reimberg  São Paulo   \n",
              "3                                 NaN      Jardim Morumbi  São Paulo   \n",
              "4            Rua Tobias Barreto, 195                Mooca  São Paulo   \n",
              "...                               ...                 ...        ...   \n",
              "10002                   Avenida Odila   Planalto Paulista  São Paulo   \n",
              "10003                      Rua Tapuçu          Vila Sofia  São Paulo   \n",
              "10004                   Rua Guararema     Bosque da Saúde  São Paulo   \n",
              "10005               Rua Estero Belaco       Vila da Saúde  São Paulo   \n",
              "10007      Rua Barão de Tramandaí, 0          Vila Alpina  São Paulo   \n",
              "\n",
              "       Metragem  Quartos  Banheiros  Vagas         Valor Moeda  Valor_anuncio  \\\n",
              "0          1000        4          8      6  R$ 7.000.000    R$      7000000.0   \n",
              "1           496        4          4      4  R$ 3.700.000    R$      3700000.0   \n",
              "2           125        4          3      2    R$ 380.000    R$       380000.0   \n",
              "3           310        3          2      4    R$ 685.000    R$       685000.0   \n",
              "4           100        3          2      2    R$ 540.000    R$       540000.0   \n",
              "...         ...      ...        ...    ...           ...   ...            ...   \n",
              "10002       267        3          6      4  R$ 1.500.000    R$      1500000.0   \n",
              "10003        95        2          2      2    R$ 665.000    R$       665000.0   \n",
              "10004       605        8          7      5  R$ 2.300.000    R$      2300000.0   \n",
              "10005       205        3          3      6  R$ 1.050.000    R$      1050000.0   \n",
              "10007       122        3          2      2    R$ 270.000    R$       270000.0   \n",
              "\n",
              "      Tipo_anuncio  \n",
              "0             None  \n",
              "1             None  \n",
              "2             None  \n",
              "3             None  \n",
              "4             None  \n",
              "...            ...  \n",
              "10002         None  \n",
              "10003         None  \n",
              "10004         None  \n",
              "10005         None  \n",
              "10007         None  \n",
              "\n",
              "[9156 rows x 11 columns]"
            ],
            "text/html": [
              "\n",
              "  <div id=\"df-ed1da135-7aff-4619-b15f-aace02fb2de6\">\n",
              "    <div class=\"colab-df-container\">\n",
              "      <div>\n",
              "<style scoped>\n",
              "    .dataframe tbody tr th:only-of-type {\n",
              "        vertical-align: middle;\n",
              "    }\n",
              "\n",
              "    .dataframe tbody tr th {\n",
              "        vertical-align: top;\n",
              "    }\n",
              "\n",
              "    .dataframe thead th {\n",
              "        text-align: right;\n",
              "    }\n",
              "</style>\n",
              "<table border=\"1\" class=\"dataframe\">\n",
              "  <thead>\n",
              "    <tr style=\"text-align: right;\">\n",
              "      <th></th>\n",
              "      <th>Rua</th>\n",
              "      <th>Bairro</th>\n",
              "      <th>Cidade</th>\n",
              "      <th>Metragem</th>\n",
              "      <th>Quartos</th>\n",
              "      <th>Banheiros</th>\n",
              "      <th>Vagas</th>\n",
              "      <th>Valor</th>\n",
              "      <th>Moeda</th>\n",
              "      <th>Valor_anuncio</th>\n",
              "      <th>Tipo_anuncio</th>\n",
              "    </tr>\n",
              "  </thead>\n",
              "  <tbody>\n",
              "    <tr>\n",
              "      <th>0</th>\n",
              "      <td>Avenida Itacira, 255</td>\n",
              "      <td>Planalto Paulista</td>\n",
              "      <td>São Paulo</td>\n",
              "      <td>1000</td>\n",
              "      <td>4</td>\n",
              "      <td>8</td>\n",
              "      <td>6</td>\n",
              "      <td>R$ 7.000.000</td>\n",
              "      <td>R$</td>\n",
              "      <td>7000000.0</td>\n",
              "      <td>None</td>\n",
              "    </tr>\n",
              "    <tr>\n",
              "      <th>1</th>\n",
              "      <td>Rua Aurelia Perez Alvarez, 42</td>\n",
              "      <td>Jardim dos Estados</td>\n",
              "      <td>São Paulo</td>\n",
              "      <td>496</td>\n",
              "      <td>4</td>\n",
              "      <td>4</td>\n",
              "      <td>4</td>\n",
              "      <td>R$ 3.700.000</td>\n",
              "      <td>R$</td>\n",
              "      <td>3700000.0</td>\n",
              "      <td>None</td>\n",
              "    </tr>\n",
              "    <tr>\n",
              "      <th>2</th>\n",
              "      <td>Rua Alba Valdez</td>\n",
              "      <td>Jardim Reimberg</td>\n",
              "      <td>São Paulo</td>\n",
              "      <td>125</td>\n",
              "      <td>4</td>\n",
              "      <td>3</td>\n",
              "      <td>2</td>\n",
              "      <td>R$ 380.000</td>\n",
              "      <td>R$</td>\n",
              "      <td>380000.0</td>\n",
              "      <td>None</td>\n",
              "    </tr>\n",
              "    <tr>\n",
              "      <th>3</th>\n",
              "      <td>NaN</td>\n",
              "      <td>Jardim Morumbi</td>\n",
              "      <td>São Paulo</td>\n",
              "      <td>310</td>\n",
              "      <td>3</td>\n",
              "      <td>2</td>\n",
              "      <td>4</td>\n",
              "      <td>R$ 685.000</td>\n",
              "      <td>R$</td>\n",
              "      <td>685000.0</td>\n",
              "      <td>None</td>\n",
              "    </tr>\n",
              "    <tr>\n",
              "      <th>4</th>\n",
              "      <td>Rua Tobias Barreto, 195</td>\n",
              "      <td>Mooca</td>\n",
              "      <td>São Paulo</td>\n",
              "      <td>100</td>\n",
              "      <td>3</td>\n",
              "      <td>2</td>\n",
              "      <td>2</td>\n",
              "      <td>R$ 540.000</td>\n",
              "      <td>R$</td>\n",
              "      <td>540000.0</td>\n",
              "      <td>None</td>\n",
              "    </tr>\n",
              "    <tr>\n",
              "      <th>...</th>\n",
              "      <td>...</td>\n",
              "      <td>...</td>\n",
              "      <td>...</td>\n",
              "      <td>...</td>\n",
              "      <td>...</td>\n",
              "      <td>...</td>\n",
              "      <td>...</td>\n",
              "      <td>...</td>\n",
              "      <td>...</td>\n",
              "      <td>...</td>\n",
              "      <td>...</td>\n",
              "    </tr>\n",
              "    <tr>\n",
              "      <th>10002</th>\n",
              "      <td>Avenida Odila</td>\n",
              "      <td>Planalto Paulista</td>\n",
              "      <td>São Paulo</td>\n",
              "      <td>267</td>\n",
              "      <td>3</td>\n",
              "      <td>6</td>\n",
              "      <td>4</td>\n",
              "      <td>R$ 1.500.000</td>\n",
              "      <td>R$</td>\n",
              "      <td>1500000.0</td>\n",
              "      <td>None</td>\n",
              "    </tr>\n",
              "    <tr>\n",
              "      <th>10003</th>\n",
              "      <td>Rua Tapuçu</td>\n",
              "      <td>Vila Sofia</td>\n",
              "      <td>São Paulo</td>\n",
              "      <td>95</td>\n",
              "      <td>2</td>\n",
              "      <td>2</td>\n",
              "      <td>2</td>\n",
              "      <td>R$ 665.000</td>\n",
              "      <td>R$</td>\n",
              "      <td>665000.0</td>\n",
              "      <td>None</td>\n",
              "    </tr>\n",
              "    <tr>\n",
              "      <th>10004</th>\n",
              "      <td>Rua Guararema</td>\n",
              "      <td>Bosque da Saúde</td>\n",
              "      <td>São Paulo</td>\n",
              "      <td>605</td>\n",
              "      <td>8</td>\n",
              "      <td>7</td>\n",
              "      <td>5</td>\n",
              "      <td>R$ 2.300.000</td>\n",
              "      <td>R$</td>\n",
              "      <td>2300000.0</td>\n",
              "      <td>None</td>\n",
              "    </tr>\n",
              "    <tr>\n",
              "      <th>10005</th>\n",
              "      <td>Rua Estero Belaco</td>\n",
              "      <td>Vila da Saúde</td>\n",
              "      <td>São Paulo</td>\n",
              "      <td>205</td>\n",
              "      <td>3</td>\n",
              "      <td>3</td>\n",
              "      <td>6</td>\n",
              "      <td>R$ 1.050.000</td>\n",
              "      <td>R$</td>\n",
              "      <td>1050000.0</td>\n",
              "      <td>None</td>\n",
              "    </tr>\n",
              "    <tr>\n",
              "      <th>10007</th>\n",
              "      <td>Rua Barão de Tramandaí, 0</td>\n",
              "      <td>Vila Alpina</td>\n",
              "      <td>São Paulo</td>\n",
              "      <td>122</td>\n",
              "      <td>3</td>\n",
              "      <td>2</td>\n",
              "      <td>2</td>\n",
              "      <td>R$ 270.000</td>\n",
              "      <td>R$</td>\n",
              "      <td>270000.0</td>\n",
              "      <td>None</td>\n",
              "    </tr>\n",
              "  </tbody>\n",
              "</table>\n",
              "<p>9156 rows × 11 columns</p>\n",
              "</div>\n",
              "      <button class=\"colab-df-convert\" onclick=\"convertToInteractive('df-ed1da135-7aff-4619-b15f-aace02fb2de6')\"\n",
              "              title=\"Convert this dataframe to an interactive table.\"\n",
              "              style=\"display:none;\">\n",
              "        \n",
              "  <svg xmlns=\"http://www.w3.org/2000/svg\" height=\"24px\"viewBox=\"0 0 24 24\"\n",
              "       width=\"24px\">\n",
              "    <path d=\"M0 0h24v24H0V0z\" fill=\"none\"/>\n",
              "    <path d=\"M18.56 5.44l.94 2.06.94-2.06 2.06-.94-2.06-.94-.94-2.06-.94 2.06-2.06.94zm-11 1L8.5 8.5l.94-2.06 2.06-.94-2.06-.94L8.5 2.5l-.94 2.06-2.06.94zm10 10l.94 2.06.94-2.06 2.06-.94-2.06-.94-.94-2.06-.94 2.06-2.06.94z\"/><path d=\"M17.41 7.96l-1.37-1.37c-.4-.4-.92-.59-1.43-.59-.52 0-1.04.2-1.43.59L10.3 9.45l-7.72 7.72c-.78.78-.78 2.05 0 2.83L4 21.41c.39.39.9.59 1.41.59.51 0 1.02-.2 1.41-.59l7.78-7.78 2.81-2.81c.8-.78.8-2.07 0-2.86zM5.41 20L4 18.59l7.72-7.72 1.47 1.35L5.41 20z\"/>\n",
              "  </svg>\n",
              "      </button>\n",
              "      \n",
              "  <style>\n",
              "    .colab-df-container {\n",
              "      display:flex;\n",
              "      flex-wrap:wrap;\n",
              "      gap: 12px;\n",
              "    }\n",
              "\n",
              "    .colab-df-convert {\n",
              "      background-color: #E8F0FE;\n",
              "      border: none;\n",
              "      border-radius: 50%;\n",
              "      cursor: pointer;\n",
              "      display: none;\n",
              "      fill: #1967D2;\n",
              "      height: 32px;\n",
              "      padding: 0 0 0 0;\n",
              "      width: 32px;\n",
              "    }\n",
              "\n",
              "    .colab-df-convert:hover {\n",
              "      background-color: #E2EBFA;\n",
              "      box-shadow: 0px 1px 2px rgba(60, 64, 67, 0.3), 0px 1px 3px 1px rgba(60, 64, 67, 0.15);\n",
              "      fill: #174EA6;\n",
              "    }\n",
              "\n",
              "    [theme=dark] .colab-df-convert {\n",
              "      background-color: #3B4455;\n",
              "      fill: #D2E3FC;\n",
              "    }\n",
              "\n",
              "    [theme=dark] .colab-df-convert:hover {\n",
              "      background-color: #434B5C;\n",
              "      box-shadow: 0px 1px 3px 1px rgba(0, 0, 0, 0.15);\n",
              "      filter: drop-shadow(0px 1px 2px rgba(0, 0, 0, 0.3));\n",
              "      fill: #FFFFFF;\n",
              "    }\n",
              "  </style>\n",
              "\n",
              "      <script>\n",
              "        const buttonEl =\n",
              "          document.querySelector('#df-ed1da135-7aff-4619-b15f-aace02fb2de6 button.colab-df-convert');\n",
              "        buttonEl.style.display =\n",
              "          google.colab.kernel.accessAllowed ? 'block' : 'none';\n",
              "\n",
              "        async function convertToInteractive(key) {\n",
              "          const element = document.querySelector('#df-ed1da135-7aff-4619-b15f-aace02fb2de6');\n",
              "          const dataTable =\n",
              "            await google.colab.kernel.invokeFunction('convertToInteractive',\n",
              "                                                     [key], {});\n",
              "          if (!dataTable) return;\n",
              "\n",
              "          const docLinkHtml = 'Like what you see? Visit the ' +\n",
              "            '<a target=\"_blank\" href=https://colab.research.google.com/notebooks/data_table.ipynb>data table notebook</a>'\n",
              "            + ' to learn more about interactive tables.';\n",
              "          element.innerHTML = '';\n",
              "          dataTable['output_type'] = 'display_data';\n",
              "          await google.colab.output.renderOutput(dataTable, element);\n",
              "          const docLink = document.createElement('div');\n",
              "          docLink.innerHTML = docLinkHtml;\n",
              "          element.appendChild(docLink);\n",
              "        }\n",
              "      </script>\n",
              "    </div>\n",
              "  </div>\n",
              "  "
            ]
          },
          "metadata": {},
          "execution_count": 2
        }
      ]
    },
    {
      "cell_type": "markdown",
      "source": [
        "## Desafio 01 - Criar uma escala de valores em milhões"
      ],
      "metadata": {
        "id": "29k5AQABTh_D"
      }
    },
    {
      "cell_type": "code",
      "source": [
        "# Função para formatar o eixo x\n",
        "def formatter_x(data_value, index):\n",
        "  formatter = f\"{(data_value*0.000_001):.0f}M\" if data_value != 0 else 0\n",
        "  return formatter\n",
        "\n",
        "# Função para formatar o eixo y\n",
        "def formatter_y(data_value, index):\n",
        "  formatter = f\"{(data_value*0.001):1.0f}K\" if data_value != 0 else 0\n",
        "  return formatter\n",
        "\n",
        "# Propriedades dos textos\n",
        "dict_font1 = {\n",
        "    \"fontsize\": 15,\n",
        "    \"fontweight\": \"bold\",\n",
        "    \"fontfamily\": \"serif\"\n",
        "}\n",
        "dict_font2 = {\n",
        "    \"fontsize\": 20,\n",
        "    \"fontweight\": \"bold\",\n",
        "    \"fontfamily\": \"serif\"\n",
        "}\n",
        "\n",
        "\n",
        "plt.style.use(\"ggplot\")\n",
        "fig, ax = plt.subplots(figsize=(10,8))\n",
        "\n",
        "# Definindo o intervalo de valores mostrados, o limite do eixo x e o limite do eixo y\n",
        "plt.xticks(np.arange(0, 10_000_001, 1_000_000))\n",
        "plt.xlim((0, 10_000_000))\n",
        "plt.ylim((0, 2500))\n",
        "\n",
        "# plotando o histograma\n",
        "ax.hist(data=dataset_vendas, x=\"Valor_anuncio\", bins=100)\n",
        "\n",
        "## Alterando título, xlabel, ylabel e rotação dos xticks\n",
        "ax.set_title(label=\"Histograma dos Valores dos Imóveis\", fontdict=dict_font2, pad=20)\n",
        "plt.xlabel(xlabel=\"Valor (R$)\", fontdict=dict_font1, labelpad=20)\n",
        "plt.ylabel(ylabel=\"Contagem de Imóveis com Esse Valor\", fontdict=dict_font1, labelpad=20)\n",
        "plt.xticks(rotation=45)\n",
        "\n",
        "## Formatando as labels\n",
        "ax.xaxis.set_major_formatter(tick.FuncFormatter(formatter_x))\n",
        "ax.yaxis.set_major_formatter(tick.FuncFormatter(formatter_y))\n",
        "\n",
        "\n",
        "plt.tight_layout()\n",
        "plt.show()\n",
        "\n",
        "\n"
      ],
      "metadata": {
        "id": "o1yKfkxI8aBF",
        "colab": {
          "base_uri": "https://localhost:8080/"
        },
        "outputId": "14ad6222-a37f-4875-eb60-217ae6361d5b"
      },
      "execution_count": null,
      "outputs": [
        {
          "output_type": "display_data",
          "data": {
            "text/plain": [
              "<Figure size 720x576 with 1 Axes>"
            ],
            "image/png": "[encoded data removed]"
          },
          "metadata": {}
        }
      ]
    },
    {
      "cell_type": "markdown",
      "source": [
        "## Desafio 02 - Deixar o gráfico do histograma de valores legível (altera labels, cores, título, escala)"
      ],
      "metadata": {
        "id": "Zd29EezCfQPf"
      }
    },
    {
      "cell_type": "code",
      "source": [
        "# Função para formatar o eixo x\n",
        "def formatter_x(data_value, index):\n",
        "  formatter = f\"{(data_value*0.000_001):.0f}M\" if data_value != 0 else 0\n",
        "  return formatter\n",
        "\n",
        "# Função para formatar o eixo y\n",
        "def formatter_y(data_value, index):\n",
        "  formatter = f\"{(data_value*0.001):1.0f}K\" if data_value != 0 else 0\n",
        "  return formatter\n",
        "\n",
        "# Propriedades dos textos\n",
        "dict_font1 = {\n",
        "    \"fontsize\": 15,\n",
        "    \"fontweight\": \"bold\",\n",
        "    \"fontfamily\": \"serif\"\n",
        "}\n",
        "dict_font2 = {\n",
        "    \"fontsize\": 20,\n",
        "    \"fontweight\": \"bold\",\n",
        "    \"fontfamily\": \"serif\"\n",
        "}\n",
        "\n",
        "\n",
        "plt.style.use(\"ggplot\")\n",
        "fig, ax = plt.subplots(figsize=(10,8))\n",
        "\n",
        "# Definindo o intervalo de valores mostrados, o limite do eixo x e o limite do eixo y\n",
        "plt.xticks(np.arange(0, 10_000_001, 1_000_000))\n",
        "plt.xlim((0, 10_000_000))\n",
        "plt.ylim((0, 2500))\n",
        "\n",
        "# plotando o histograma\n",
        "ax.hist(data=dataset_vendas, x=\"Valor_anuncio\", bins=100)\n",
        "\n",
        "# Alterando título, xlabel, ylabel e rotação dos xticks e legenda\n",
        "ax.set_title(label=\"Histograma dos Valores dos Imóveis\", fontdict=dict_font2, pad=20)\n",
        "plt.xlabel(xlabel=\"Valor (R$)\", fontdict=dict_font1, labelpad=20)\n",
        "plt.ylabel(ylabel=\"Contagem de Imóveis com Esse Valor\", fontdict=dict_font1, labelpad=20)\n",
        "plt.xticks(rotation=45)\n",
        "plt.legend(fancybox=True, framealpha=1, shadow=True, borderpad=1, loc=\"upper center\")\n",
        "\n",
        "# Formatando as labels\n",
        "ax.xaxis.set_major_formatter(tick.FuncFormatter(formatter_x))\n",
        "ax.yaxis.set_major_formatter(tick.FuncFormatter(formatter_y))\n",
        "\n",
        "\n",
        "plt.tight_layout()\n",
        "plt.show()\n"
      ],
      "metadata": {
        "colab": {
          "base_uri": "https://localhost:8080/",
          "height": 585
        },
        "id": "thS0PSRVUIgf",
        "outputId": "45a0ae19-549a-4b7a-ecc6-3b7e191ecf3c"
      },
      "execution_count": null,
      "outputs": [
        {
          "output_type": "display_data",
          "data": {
            "text/plain": [
              "<Figure size 720x576 with 1 Axes>"
            ],
            "image/png": "[encoded data removed]"
          },
          "metadata": {}
        }
      ]
    },
    {
      "cell_type": "markdown",
      "source": [
        "## Desafio 03 - Preço do metro quadrado por bairro e plotar em um gráfico ideal"
      ],
      "metadata": {
        "id": "hoIGeQNgmmKh"
      }
    },
    {
      "cell_type": "code",
      "source": [
        "dataset_vendas[\"Valor/Metro_Quadrado\"] = dataset_vendas.Valor_anuncio / dataset_vendas.Metragem  # Inserindo a nova coluna \"Valor/Metro_Quadrado\"\n",
        "dataset_vendas.groupby(\"Bairro\")[\"Valor/Metro_Quadrado\"].mean().sort_values(ascending=False)"
      ],
      "metadata": {
        "colab": {
          "base_uri": "https://localhost:8080/"
        },
        "id": "ux14PXehniJP",
        "outputId": "9cc53c25-7db9-4a2e-8290-7443faa8db01"
      },
      "execution_count": null,
      "outputs": [
        {
          "output_type": "stream",
          "name": "stderr",
          "text": [
            "/usr/local/lib/python3.7/dist-packages/ipykernel_launcher.py:1: SettingWithCopyWarning: \n",
            "A value is trying to be set on a copy of a slice from a DataFrame.\n",
            "Try using .loc[row_indexer,col_indexer] = value instead\n",
            "\n",
            "See the caveats in the documentation: https://pandas.pydata.org/pandas-docs/stable/user_guide/indexing.html#returning-a-view-versus-a-copy\n",
            "  \"\"\"Entry point for launching an IPython kernel.\n"
          ]
        },
        {
          "output_type": "execute_result",
          "data": {
            "text/plain": [
              "Bairro\n",
              "Vila Guaca                      80000.000000\n",
              "Jardim América                  24088.572449\n",
              "Jardim Ampliação                20051.041667\n",
              "Jardim Europa                   19962.687870\n",
              "Vila Nova Conceição             17614.033886\n",
              "                                    ...     \n",
              "Jardim Brasília (Zona Leste)     1055.009107\n",
              "Jardim Itapemirim                1054.500000\n",
              "Vila Aurea                        906.593407\n",
              "Jardim Vera Cruz(Zona Leste)      544.755329\n",
              "Sítio Represa                      78.378378\n",
              "Name: Valor/Metro_Quadrado, Length: 697, dtype: float64"
            ]
          },
          "metadata": {},
          "execution_count": 5
        }
      ]
    },
    {
      "cell_type": "code",
      "source": [
        "# Pegando os índexes\n",
        "dataset_vendas.groupby(\"Bairro\")[\"Valor/Metro_Quadrado\"].mean().sort_values(ascending=False).head(10).index"
      ],
      "metadata": {
        "colab": {
          "base_uri": "https://localhost:8080/"
        },
        "id": "HXJ7QakVvUPt",
        "outputId": "cd95026f-c75d-4b28-c02c-96e687bdc19f"
      },
      "execution_count": null,
      "outputs": [
        {
          "output_type": "execute_result",
          "data": {
            "text/plain": [
              "Index(['Vila Guaca', 'Jardim América', 'Jardim Ampliação', 'Jardim Europa',\n",
              "       'Vila Nova Conceição', 'Jardim Teresa', 'Jardim Luzitânia',\n",
              "       'Jardim Paulista', 'Jardim Paulistano', 'Itaim Bibi'],\n",
              "      dtype='object', name='Bairro')"
            ]
          },
          "metadata": {},
          "execution_count": 6
        }
      ]
    },
    {
      "cell_type": "code",
      "source": [
        "# Definindo os valores do eixo x e y\n",
        "y = dataset_vendas.groupby(\"Bairro\")[\"Valor/Metro_Quadrado\"].mean().sort_values(ascending=False).head(10)\n",
        "x = dataset_vendas.groupby(\"Bairro\")[\"Valor/Metro_Quadrado\"].mean().sort_values(ascending=False).head(10).index\n",
        "\n",
        "# Escolhendo 3 valores aleatórios para cada tupla rgb a cada vez que a célula é executada\n",
        "colors = [(random.random(), random.random(), random.random()) for _ in range(0, 10)]\n",
        "\n",
        "# Propriedades de texto\n",
        "fontdict1 = {\n",
        "    \"fontsize\": 15,\n",
        "    \"fontweight\": \"bold\",\n",
        "    \"fontfamily\": \"serif\"\n",
        "}\n",
        "fontdict2 = {\n",
        "    \"fontsize\": 20,\n",
        "    \"fontweight\": \"bold\",\n",
        "    \"fontfamily\": \"serif\"\n",
        "}\n",
        "\n",
        "\n",
        "plt.style.use(\"ggplot\")\n",
        "fig, ax = plt.subplots(figsize=(10,8))\n",
        "\n",
        "# Plotando o gráfico de barras\n",
        "ax.bar(height=y, x=x, color=colors )\n",
        "\n",
        "# Alterando o título, labels e rotação dos ticks\n",
        "ax.set_title(label=\"Valor p/ Metro Quadrado de Cada Bairro\", fontdict=fontdict2, pad=20)\n",
        "plt.ylabel(ylabel=\"Valor (R$)\", labelpad=20, fontdict=fontdict1)\n",
        "plt.xlabel(xlabel=\"Bairro\", labelpad=20, horizontalalignment=\"right\", fontdict=fontdict1)\n",
        "plt.xticks(rotation=45)\n",
        "\n",
        "\n",
        "plt.tight_layout()\n",
        "plt.show()"
      ],
      "metadata": {
        "colab": {
          "base_uri": "https://localhost:8080/"
        },
        "id": "qHSxm4uCvom8",
        "outputId": "26f80e58-7259-4b03-b2d7-393e883be671"
      },
      "execution_count": null,
      "outputs": [
        {
          "output_type": "display_data",
          "data": {
            "text/plain": [
              "<Figure size 720x576 with 1 Axes>"
            ],
            "image/png": "[encoded data removed]"
          },
          "metadata": {}
        }
      ]
    },
    {
      "cell_type": "markdown",
      "source": [
        "## Desafio 04 - Explorar as bibliotecas de visualizações e colocar as suas conclusões"
      ],
      "metadata": {
        "id": "PNvBOes-rVrA"
      }
    },
    {
      "cell_type": "code",
      "source": [],
      "metadata": {
        "id": "wAx2EyUgrnil"
      },
      "execution_count": null,
      "outputs": []
    },
    {
      "cell_type": "markdown",
      "source": [
        "## Desafio 05 - Pesquisar uma visualização para analisar os quartis, mediana e outliers"
      ],
      "metadata": {
        "id": "8_mMxnyurftb"
      }
    },
    {
      "cell_type": "code",
      "source": [
        "## Sei que utiliza o bloxplot"
      ],
      "metadata": {
        "id": "9AOYsR_qreps"
      },
      "execution_count": null,
      "outputs": []
    },
    {
      "cell_type": "code",
      "source": [],
      "metadata": {
        "id": "qmyIGVsbtJq-"
      },
      "execution_count": null,
      "outputs": []
    },
    {
      "cell_type": "code",
      "source": [],
      "metadata": {
        "id": "rh6keKXb8Lf7"
      },
      "execution_count": null,
      "outputs": []
    }
  ]
}